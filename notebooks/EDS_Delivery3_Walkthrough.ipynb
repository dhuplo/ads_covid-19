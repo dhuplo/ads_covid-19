{
 "cells": [
  {
   "cell_type": "markdown",
   "id": "ca3a6f0e",
   "metadata": {},
   "source": [
    "# 1. Get Covid-19 data from John-Hopkins Github"
   ]
  },
  {
   "cell_type": "code",
   "execution_count": 1,
   "id": "4dae6d31",
   "metadata": {},
   "outputs": [],
   "source": [
    "%run \"../src/data/get_data.py\""
   ]
  },
  {
   "cell_type": "markdown",
   "id": "13830fd2",
   "metadata": {},
   "source": [
    "# 2. Process Pipeline"
   ]
  },
  {
   "cell_type": "code",
   "execution_count": 2,
   "id": "68c6b792",
   "metadata": {},
   "outputs": [
    {
     "name": "stdout",
     "output_type": "stream",
     "text": [
      "Preparing data for Confirmed Covid Cases and Doubling rate Ploting... \n",
      "No. of rows stored:261345\n",
      "Data Acquired and Stored as COVID_relational_confirmed.csv\n"
     ]
    }
   ],
   "source": [
    "%run \"../src/data/process_JH_data.py\""
   ]
  },
  {
   "cell_type": "markdown",
   "id": "ed25676b",
   "metadata": {},
   "source": [
    "# 3. Slope Calculation"
   ]
  },
  {
   "cell_type": "code",
   "execution_count": 3,
   "id": "c3f976f4",
   "metadata": {},
   "outputs": [
    {
     "name": "stdout",
     "output_type": "stream",
     "text": [
      "the test slope is: [2.]\n"
     ]
    }
   ],
   "source": [
    "%run \"../src/features/build_features.py\""
   ]
  },
  {
   "cell_type": "markdown",
   "id": "3b433e2a",
   "metadata": {},
   "source": [
    "# 4. Dynamic Dash Board"
   ]
  },
  {
   "cell_type": "code",
   "execution_count": null,
   "id": "607e6ec0",
   "metadata": {},
   "outputs": [
    {
     "name": "stdout",
     "output_type": "stream",
     "text": [
      "C:\\DhuploXD\\CVT\\Enterprise Data science\\ads_covid-19\\notebooks\n",
      "Dash is running on http://127.0.0.1:8050/\n",
      "\n",
      " * Serving Flask app 'visualize' (lazy loading)\n",
      " * Environment: production\n",
      "\u001b[31m   WARNING: This is a development server. Do not use it in a production deployment.\u001b[0m\n",
      "\u001b[2m   Use a production WSGI server instead.\u001b[0m\n",
      " * Debug mode: on\n"
     ]
    }
   ],
   "source": [
    "%run \"../src/visualization/visualize.py\""
   ]
  },
  {
   "cell_type": "code",
   "execution_count": null,
   "id": "2f61a517",
   "metadata": {},
   "outputs": [],
   "source": []
  }
 ],
 "metadata": {
  "kernelspec": {
   "display_name": "Python 3 (ipykernel)",
   "language": "python",
   "name": "python3"
  },
  "language_info": {
   "codemirror_mode": {
    "name": "ipython",
    "version": 3
   },
   "file_extension": ".py",
   "mimetype": "text/x-python",
   "name": "python",
   "nbconvert_exporter": "python",
   "pygments_lexer": "ipython3",
   "version": "3.10.5"
  }
 },
 "nbformat": 4,
 "nbformat_minor": 5
}
