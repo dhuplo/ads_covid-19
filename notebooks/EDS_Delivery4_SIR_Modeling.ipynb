{
 "cells": [
  {
   "cell_type": "code",
   "execution_count": 1,
   "id": "3f4a3dd8",
   "metadata": {},
   "outputs": [],
   "source": [
    "import pandas as pd\n",
    "import numpy as np\n",
    "from datetime import datetime\n",
    "import pandas as pd\n",
    "from scipy import optimize\n",
    "from scipy import integrate\n",
    "%matplotlib inline\n",
    "import matplotlib as mpl\n",
    "import matplotlib.pyplot as plt\n",
    "import seaborn as sns\n",
    "sns.set(style=\"darkgrid\")\n",
    "\n",
    "mpl.rcParams['figure.figsize'] = (16, 9)\n",
    "pd.set_option('display.max_rows', 500)"
   ]
  },
  {
   "cell_type": "code",
   "execution_count": 2,
   "id": "9e33ec76",
   "metadata": {},
   "outputs": [
    {
     "name": "stdout",
     "output_type": "stream",
     "text": [
      "Data Acquired and Stored as COVID_small_flat_table.csv\n"
     ]
    }
   ],
   "source": [
    "def store_flat_table_JH_data():\n",
    "\n",
    "    data_path_1 = r\"https://raw.githubusercontent.com/CSSEGISandData/COVID-19/\" \\\n",
    "                  r\"master/csse_covid_19_data/csse_covid_19_time_series/time_series_covid19_confirmed_global.csv\"\n",
    "    pd_raw = pd.read_csv(data_path_1)\n",
    "    time_idx = pd_raw.columns[4:]\n",
    "    df_plot = pd.DataFrame({\"date\": time_idx})\n",
    "    Country_list = [\"Germany\", \"India\", \"US\"]\n",
    "    for each in Country_list:\n",
    "        df_plot[each] = np.array(pd_raw[pd_raw[\"Country/Region\"] == each].iloc[:, 4::].sum(axis=0))\n",
    "\n",
    "    time_idx = [datetime.strptime(each, \"%m/%d/%y\") for each in df_plot.date]\n",
    "    time_str = [each.strftime('%Y-%m-%d') for each in time_idx]\n",
    "    df_plot[\"date\"] = time_idx\n",
    "    df_plot.to_csv('../data/processed/COVID_small_flat_table.csv', sep=';', index=False)\n",
    "    print(\"Data Acquired and Stored as COVID_small_flat_table.csv\")\n",
    "\n",
    "\n",
    "store_flat_table_JH_data()"
   ]
  },
  {
   "cell_type": "code",
   "execution_count": 3,
   "id": "5d67d656",
   "metadata": {},
   "outputs": [],
   "source": [
    "def SIR_model_t(SIR,t,beta,gamma):\n",
    "    S,I,R = SIR\n",
    "    dS_dt = -beta*S*I/N0\n",
    "    dI_dt = beta*S*I/N0-gamma*I\n",
    "    dR_dt = gamma*I\n",
    "    return dS_dt,dI_dt,dR_dt\n",
    "\n",
    "\n",
    "def slice_data(data,con):\n",
    "    ydata = np.array(data[con])\n",
    "    t = np.arange(len(ydata))\n",
    "    return ydata, t\n",
    "\n",
    "def fit_odeint(x, beta, gamma):\n",
    "\n",
    "    '''\n",
    "    helper function for the integration\n",
    "    '''\n",
    "    I0 = ydata[0]\n",
    "    S0 =N0 - I0\n",
    "    R0=0\n",
    "    return integrate.odeint(SIR_model_t, (S0, I0, R0), t, args=(beta, gamma))[:,1] # we only would like to get dI"
   ]
  },
  {
   "cell_type": "code",
   "execution_count": 4,
   "id": "ec7daee7",
   "metadata": {},
   "outputs": [
    {
     "name": "stderr",
     "output_type": "stream",
     "text": [
      "C:\\Users\\idhup\\AppData\\Local\\Programs\\Python\\Python310\\lib\\site-packages\\scipy\\integrate\\_odepack_py.py:247: ODEintWarning: Excess work done on this call (perhaps wrong Dfun type). Run with full_output = 1 to get quantitative information.\n",
      "  warnings.warn(warning_msg, ODEintWarning)\n",
      "C:\\Users\\idhup\\AppData\\Local\\Temp\\ipykernel_11628\\2550554620.py:3: RuntimeWarning: overflow encountered in double_scalars\n",
      "  dS_dt = -beta*S*I/N0\n",
      "C:\\Users\\idhup\\AppData\\Local\\Temp\\ipykernel_11628\\2550554620.py:4: RuntimeWarning: overflow encountered in double_scalars\n",
      "  dI_dt = beta*S*I/N0-gamma*I\n",
      "C:\\Users\\idhup\\AppData\\Local\\Temp\\ipykernel_11628\\2550554620.py:5: RuntimeWarning: overflow encountered in double_scalars\n",
      "  dR_dt = gamma*I\n",
      "C:\\Users\\idhup\\AppData\\Local\\Programs\\Python\\Python310\\lib\\site-packages\\scipy\\integrate\\_odepack_py.py:247: ODEintWarning: Excess work done on this call (perhaps wrong Dfun type). Run with full_output = 1 to get quantitative information.\n",
      "  warnings.warn(warning_msg, ODEintWarning)\n"
     ]
    },
    {
     "name": "stdout",
     "output_type": "stream",
     "text": [
      "standard deviation errors :  [0.01530513 0.01530414]  start infect: 16\n",
      "Optimal parameters: beta = 0.6078266945405171  and gamma =  0.4806423527603442\n"
     ]
    },
    {
     "name": "stderr",
     "output_type": "stream",
     "text": [
      "C:\\Users\\idhup\\AppData\\Local\\Temp\\ipykernel_11628\\2550554620.py:3: RuntimeWarning: overflow encountered in double_scalars\n",
      "  dS_dt = -beta*S*I/N0\n",
      "C:\\Users\\idhup\\AppData\\Local\\Temp\\ipykernel_11628\\2550554620.py:4: RuntimeWarning: overflow encountered in double_scalars\n",
      "  dI_dt = beta*S*I/N0-gamma*I\n",
      "C:\\Users\\idhup\\AppData\\Local\\Temp\\ipykernel_11628\\2550554620.py:5: RuntimeWarning: overflow encountered in double_scalars\n",
      "  dR_dt = gamma*I\n",
      "C:\\Users\\idhup\\AppData\\Local\\Programs\\Python\\Python310\\lib\\site-packages\\scipy\\integrate\\_odepack_py.py:247: ODEintWarning: Excess work done on this call (perhaps wrong Dfun type). Run with full_output = 1 to get quantitative information.\n",
      "  warnings.warn(warning_msg, ODEintWarning)\n",
      "C:\\Users\\idhup\\AppData\\Local\\Temp\\ipykernel_11628\\2550554620.py:3: RuntimeWarning: overflow encountered in double_scalars\n",
      "  dS_dt = -beta*S*I/N0\n",
      "C:\\Users\\idhup\\AppData\\Local\\Temp\\ipykernel_11628\\2550554620.py:4: RuntimeWarning: overflow encountered in double_scalars\n",
      "  dI_dt = beta*S*I/N0-gamma*I\n",
      "C:\\Users\\idhup\\AppData\\Local\\Temp\\ipykernel_11628\\2550554620.py:5: RuntimeWarning: overflow encountered in double_scalars\n",
      "  dR_dt = gamma*I\n"
     ]
    },
    {
     "name": "stdout",
     "output_type": "stream",
     "text": [
      "standard deviation errors :  [0.00739507 0.00708496]  start infect: 3\n",
      "Optimal parameters: beta = 0.5700194826851578  and gamma =  0.449608754601037\n",
      "standard deviation errors :  [0.00428436 0.00410685]  start infect: 16\n",
      "Optimal parameters: beta = 0.25919319290126525  and gamma =  0.1109766777567803\n"
     ]
    }
   ],
   "source": [
    "df_analyse=pd.read_csv('../data/processed/COVID_small_flat_table.csv',sep=';')\n",
    "df_analyse=df_analyse.sort_values('date',ascending=True)\n",
    "df_analyse=df_analyse[30:140:]\n",
    "df_analyse= df_analyse.reset_index().drop([\"index\"], axis=1)\n",
    "N0 =10000000\n",
    "popt=[0.3,0.1]\n",
    "country_list= df_analyse.columns[1:]\n",
    "for each in country_list:\n",
    "    ydata, t = slice_data(df_analyse,each)\n",
    "    fit_odeint(t, *popt)\n",
    "    popt2, pcov = optimize.curve_fit(fit_odeint, t, ydata, maxfev=1000)\n",
    "    perr = np.sqrt(np.diag(pcov))\n",
    "    print('standard deviation errors : ', str(perr), ' start infect:', ydata[0])\n",
    "    print(\"Optimal parameters: beta =\", popt2[0], \" and gamma = \", popt2[1])\n",
    "    fitted=fit_odeint(t, *popt)\n",
    "    df_analyse[each+\"fit\"]= pd.DataFrame(fitted)\n",
    "\n",
    "df_analyse= df_analyse.reset_index()\n",
    "# df_analyse.head()"
   ]
  },
  {
   "cell_type": "code",
   "execution_count": 5,
   "id": "5f59b0e5",
   "metadata": {},
   "outputs": [],
   "source": [
    "import random\n",
    "color_list = []\n",
    "for i in range(200):\n",
    "    var = '#%02x%02x%02x'%(random.randint(0,255),random.randint(0,255),random.randint(0,255))\n",
    "    color_list.append(var)"
   ]
  },
  {
   "cell_type": "code",
   "execution_count": null,
   "id": "5965b79c",
   "metadata": {},
   "outputs": [
    {
     "name": "stdout",
     "output_type": "stream",
     "text": [
      "Dash is running on http://127.0.0.1:8050/\n",
      "\n",
      " * Serving Flask app '__main__' (lazy loading)\n",
      " * Environment: production\n",
      "\u001b[31m   WARNING: This is a development server. Do not use it in a production deployment.\u001b[0m\n",
      "\u001b[2m   Use a production WSGI server instead.\u001b[0m\n",
      " * Debug mode: on\n"
     ]
    }
   ],
   "source": [
    "import pandas as pd\n",
    "import numpy as np\n",
    "\n",
    "import dash\n",
    "dash.__version__\n",
    "from dash import dcc\n",
    "from dash import html\n",
    "from dash.dependencies import Input, Output,State\n",
    "\n",
    "import plotly.graph_objects as go\n",
    "\n",
    "import os\n",
    "df_input_large=df_analyse\n",
    "\n",
    "\n",
    "fig = go.Figure()\n",
    "\n",
    "app = dash.Dash()\n",
    "app.layout = html.Div([\n",
    "\n",
    "    dcc.Markdown('''\n",
    "    #  Applied Data Science on COVID-19 data\n",
    "\n",
    "    Goal of the project is to learn data science by applying a cross industry standard process,\n",
    "    it covers the full walkthrough of: automated data gathering, data transformations,\n",
    "    filtering and machine learning to approximating the doubling time, and\n",
    "    (static) deployment of responsive dashboard.\n",
    "\n",
    "    '''),\n",
    "\n",
    "    dcc.Markdown('''\n",
    "    ## Multi-Select Country for SIR visualization\n",
    "    '''),\n",
    "\n",
    "\n",
    "    dcc.Dropdown(\n",
    "        id='country_drop_down',\n",
    "        options=[ {'label': each,'value':each} for each in df_analyse.columns[2:5]],\n",
    "        value=['India'], # which are pre-selected\n",
    "        multi=True\n",
    "    ),\n",
    "\n",
    "    dcc.Graph(figure=fig, id='main_window_slope')\n",
    "])\n",
    "\n",
    "\n",
    "\n",
    "@app.callback(\n",
    "    Output('main_window_slope', 'figure'),\n",
    "    [Input('country_drop_down', 'value')])\n",
    "\n",
    "\n",
    "def update_figure(country_list):\n",
    "\n",
    "\n",
    "    v=0\n",
    "    my_yaxis={'type':\"log\",\n",
    "              'title':'New Population Infected'\n",
    "          }\n",
    "\n",
    "\n",
    "    traces = []\n",
    "    for each in country_list:\n",
    "\n",
    "        traces.append(dict(x=df_analyse.index,\n",
    "                                y=df_analyse[each],\n",
    "                                mode='markers', markers = dict(color= color_list[v]),\n",
    "                                opacity=0.9,\n",
    "                                name=each\n",
    "                        )\n",
    "                )\n",
    "        traces.append(dict(x=df_analyse.index,\n",
    "                        y=df_analyse[each+\"fit\"],\n",
    "                        mode='lines',line = dict(color=color_list[v]), opacity=1.0,name=each+'_Fit'))\n",
    "        v= v+1\n",
    "\n",
    "    return {\n",
    "            'data': traces,\n",
    "            'layout': dict (\n",
    "                width=1280,\n",
    "                height=720,\n",
    "\n",
    "                xaxis={'title':'Timeline',\n",
    "                        'tickangle':-45,\n",
    "                        'nticks':20,\n",
    "                        'tickfont':dict(size=14,color=\"#7f7f7f\"),\n",
    "                      },\n",
    "\n",
    "                yaxis=my_yaxis\n",
    "        )\n",
    "    }\n",
    "\n",
    "if __name__ == '__main__':\n",
    "    app.run_server(debug=True, use_reloader=False)"
   ]
  },
  {
   "cell_type": "code",
   "execution_count": null,
   "id": "3f693d76",
   "metadata": {},
   "outputs": [],
   "source": []
  }
 ],
 "metadata": {
  "kernelspec": {
   "display_name": "Python 3 (ipykernel)",
   "language": "python",
   "name": "python3"
  },
  "language_info": {
   "codemirror_mode": {
    "name": "ipython",
    "version": 3
   },
   "file_extension": ".py",
   "mimetype": "text/x-python",
   "name": "python",
   "nbconvert_exporter": "python",
   "pygments_lexer": "ipython3",
   "version": "3.10.5"
  }
 },
 "nbformat": 4,
 "nbformat_minor": 5
}
